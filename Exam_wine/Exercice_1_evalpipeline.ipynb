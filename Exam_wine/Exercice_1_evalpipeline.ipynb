{
 "cells": [
  {
   "attachments": {},
   "cell_type": "markdown",
   "id": "9c3a7754",
   "metadata": {},
   "source": [
    "# Exercice 1 : evalpipeline : Build a KFP Evaluation Pipeline"
   ]
  },
  {
   "attachments": {},
   "cell_type": "markdown",
   "id": "22080c45",
   "metadata": {},
   "source": [
    "**In this exercice, you will have to create a pipeline that :**\n",
    "- Load data from : `bucket = \"exam-assets\" minio_path = 'datasets/wine/wine.parquet'`\n",
    "- Load model from : `bucket = \"exam-assets\" minio_path = 'model/wine/winemodel.joblib'`\n",
    "- Test the model on some sample to get, export and print the accurary into the KFP experiment view."
   ]
  },
  {
   "attachments": {},
   "cell_type": "markdown",
   "id": "35d17a40",
   "metadata": {},
   "source": [
    "**This exercice can give you 5 points, here is how :** \n",
    "\n",
    "\n",
    "| criteria  | description  | score  |  \n",
    "|---|---|---|\n",
    "|  A pipeline with the right name has been submitted into your namespace.  | it should be `{{username-pipeline-exotitle-date}}` Example for this exercice : `john-doe-evalpipeline-2023-02-06T09:08:09`  |  1 |\n",
    "|  Pipeline has run successfully at least once |  all components of the final pipeline should have ended successfully at least once  --> green checkbox | 2  |\n",
    "|  The accuracy has been exported as pipeline metric | Looking at experiment view, we can see accurary metric related to your run  | 2  |"
   ]
  },
  {
   "attachments": {},
   "cell_type": "markdown",
   "id": "64b99839",
   "metadata": {},
   "source": [
    "![evalpipeline](./images/evalpipeline.png)"
   ]
  },
  {
   "cell_type": "code",
   "execution_count": 4,
   "id": "abf2e5cd-c53c-4a5d-9f55-e2b57a98b850",
   "metadata": {},
   "outputs": [],
   "source": [
    "# Here is what depandancies you'll need\n",
    "import kfp as kfp\n",
    "import kfp.dsl as dsl\n",
    "from kfp import components\n",
    "import os\n",
    "from kfp.components import InputPath, OutputPath, create_component_from_func\n",
    "from minio import Minio\n",
    "import urllib3\n",
    "import datetime as dt\n",
    "import pandas as pd"
   ]
  },
  {
   "attachments": {},
   "cell_type": "markdown",
   "id": "ddd582f8",
   "metadata": {},
   "source": [
    "## Components definition"
   ]
  },
  {
   "attachments": {},
   "cell_type": "markdown",
   "id": "868244eb",
   "metadata": {},
   "source": [
    "**You will need at least 2 component**, one that load data from minio bucket, and the second that load the model from minio bucket, and predict a sample of the data loaded by the first component. You are free to try any other pipeline architecture."
   ]
  },
  {
   "attachments": {},
   "cell_type": "markdown",
   "id": "d02fbb36",
   "metadata": {},
   "source": [
    "You can start from components from datapipeline 2 technical session.\n",
    "\n",
    "For the minio access_key and secret key : use :\n",
    "\n",
    "```\n",
    "access_key=\"minio-kserve\",\n",
    "secret_key=\"minio-kserve\",\n",
    "```"
   ]
  },
  {
   "attachments": {},
   "cell_type": "markdown",
   "id": "8e80db9e",
   "metadata": {},
   "source": [
    "### Get Data component"
   ]
  },
  {
   "cell_type": "code",
   "execution_count": null,
   "id": "8396612c",
   "metadata": {},
   "outputs": [],
   "source": [
    "def get_data_from_minio(\n",
    "    minio_path: str,\n",
    "    bucket: str,\n",
    "    file_path: OutputPath(),\n",
    "    ):\n",
    "    \n",
    "    import numpy\n",
    "    from io import BytesIO\n",
    "    import pandas as pd\n",
    "    import urllib3\n",
    "    from minio import Minio\n",
    "    import os\n",
    "    import pyarrow\n",
    "\n",
    "    ...\n",
    "\n",
    "    try:\n",
    "        ...\n",
    "    finally:\n",
    "        ...\n",
    "        \n",
    "    ### pass dataset to component output\n",
    "    ..."
   ]
  },
  {
   "attachments": {},
   "cell_type": "markdown",
   "id": "73eb582d",
   "metadata": {},
   "source": [
    "### Build the get_data component component"
   ]
  },
  {
   "cell_type": "code",
   "execution_count": null,
   "id": "b7733cd9",
   "metadata": {},
   "outputs": [],
   "source": [
    "create_component_from_func(\n",
    "    ...,\n",
    "    output_component_file='components/get_data.yaml',\n",
    "    base_image='python:3.8',\n",
    "    packages_to_install=[\n",
    "        'numpy==1.22.3',\n",
    "        'minio==6.0.2',\n",
    "        'pandas==1.0.5',\n",
    "        'pyarrow==10.0.1'\n",
    "    ],\n",
    ")"
   ]
  },
  {
   "cell_type": "markdown",
   "id": "23e1de20",
   "metadata": {},
   "source": [
    "### Eval model component"
   ]
  },
  {
   "attachments": {},
   "cell_type": "markdown",
   "id": "0f7e9d13",
   "metadata": {},
   "source": [
    "For the wine classification dataset, the already trained model is a : \n",
    "  `sklearn.tree.DecisionTreeClassifier()`. \n",
    "  \n",
    "It has been persisted in `.joblib` file, so you can load it like : \n",
    "\n",
    "```python\n",
    "from joblib import load\n",
    "model = load(model_object)\n",
    "```"
   ]
  },
  {
   "cell_type": "code",
   "execution_count": null,
   "id": "cc4d3c21",
   "metadata": {},
   "outputs": [],
   "source": [
    "def sklearn_read_predict(\n",
    "    training_data_path: InputPath('CSV'),  # Also supports LibSVM\n",
    "    minio_path: str,\n",
    "    bucket: str,\n",
    "    mlpipeline_metrics_path: OutputPath('Metrics'),\n",
    "    label_column: int = 0,\n",
    "):\n",
    "    from sklearn import metrics\n",
    "    import urllib3\n",
    "    from sklearn.model_selection import train_test_split\n",
    "    from sklearn import tree\n",
    "    import pandas as pd\n",
    "    import numpy\n",
    "    import pyarrow\n",
    "    from io import BytesIO\n",
    "    from minio import Minio\n",
    "    import os\n",
    "    from joblib import load\n",
    "    import json\n",
    "    \n",
    "    # Evaluating\n",
    "    from sklearn.metrics import accuracy_score\n",
    "\n",
    "    minio_path = 'model/wine/winemodel.joblib'\n",
    "    bucket = \"exam-assets\"\n",
    "\n",
    "    ...\n",
    "\n",
    "    try:\n",
    "        ...\n",
    "    finally:\n",
    "        ...\n",
    "    \n",
    "\n",
    "    \n",
    "    ## Load dataset\n",
    "    ...\n",
    "    \n",
    "    ### split data ###\n",
    "\n",
    "    ...\n",
    "\n",
    "    # Evaluating the model\n",
    "    ...\n",
    "        \n",
    "        \n",
    "    ### Save and exports metrics ###\n",
    "    ...\n"
   ]
  },
  {
   "cell_type": "markdown",
   "id": "e7f9b931",
   "metadata": {},
   "source": [
    "### Build model eval component"
   ]
  },
  {
   "cell_type": "code",
   "execution_count": null,
   "id": "7634c979",
   "metadata": {},
   "outputs": [],
   "source": [
    "create_component_from_func(\n",
    "    ...,\n",
    "    output_component_file='components/sklearn_read_predict.yaml',\n",
    "    base_image='python:3.8',\n",
    "    packages_to_install=[\n",
    "        'urllib3==1.26.5',\n",
    "        'minio==6.0.2',\n",
    "        'scikit-learn==0.24.2',\n",
    "        'numpy==1.22.3',\n",
    "        'pandas==1.0.5',\n",
    "        'pyarrow'\n",
    "    ],\n",
    ")"
   ]
  },
  {
   "cell_type": "markdown",
   "id": "98b4300e",
   "metadata": {},
   "source": [
    "### Pipeline"
   ]
  },
  {
   "cell_type": "code",
   "execution_count": null,
   "id": "9f5d1410",
   "metadata": {},
   "outputs": [],
   "source": [
    "@dsl.pipeline(name='evaluate_model_performance')\n",
    "def evaluate_model_pipeline(namespace=namespace):\n",
    "    import datetime\n",
    "    from kfp.onprem import use_k8s_secret\n",
    "    \n",
    "    bucket='exam-assets'\n",
    "    \n",
    "    data ...\n",
    "    \n",
    "    model ..."
   ]
  },
  {
   "attachments": {},
   "cell_type": "markdown",
   "id": "569919ac",
   "metadata": {},
   "source": [
    "#### Create KFP client"
   ]
  },
  {
   "cell_type": "code",
   "execution_count": null,
   "id": "64e6a561",
   "metadata": {},
   "outputs": [],
   "source": [
    "### a token has been automatically provided in the KF_PIPELINES_SA_TOKEN_PATH variable. This token allow accès to only your namespace\n",
    "token_file = os.getenv(\"KF_PIPELINES_SA_TOKEN_PATH\")\n",
    "with open(token_file) as f:\n",
    "    token = f.readline()\n",
    "client = kfp.Client(host='http://ml-pipeline.kubeflow.svc.cluster.local:8888',\n",
    "               existing_token=token)"
   ]
  },
  {
   "cell_type": "code",
   "execution_count": null,
   "id": "f996fb8f",
   "metadata": {},
   "outputs": [],
   "source": [
    "EXPERIMENT_NAME = ''\n",
    "username=''"
   ]
  },
  {
   "cell_type": "markdown",
   "id": "cd226b76",
   "metadata": {},
   "source": [
    "### Submit the pipeline"
   ]
  },
  {
   "cell_type": "code",
   "execution_count": null,
   "id": "93a489fd",
   "metadata": {},
   "outputs": [],
   "source": [
    "run_id = client.create_run_from_pipeline_func(\n",
    "    pipeline_func=..., \n",
    "    namespace=namespace, \n",
    "    experiment_name=EXPERIMENT_NAME,\n",
    "    run_name=...,\n",
    "    arguments={},\n",
    ").run_id\n",
    "print(\"Run ID: \", run_id)"
   ]
  },
  {
   "cell_type": "markdown",
   "id": "5d05c896",
   "metadata": {},
   "source": [
    "## End of the exercice "
   ]
  }
 ],
 "metadata": {
  "kernelspec": {
   "display_name": "Python 3",
   "language": "python",
   "name": "python3"
  },
  "language_info": {
   "codemirror_mode": {
    "name": "ipython",
    "version": 3
   },
   "file_extension": ".py",
   "mimetype": "text/x-python",
   "name": "python",
   "nbconvert_exporter": "python",
   "pygments_lexer": "ipython3",
   "version": "3.9.13"
  },
  "vscode": {
   "interpreter": {
    "hash": "1db6d0c0fb62fcd92812f526c45c77dc568410c92bb0ad7cc615a53ad33175c5"
   }
  }
 },
 "nbformat": 4,
 "nbformat_minor": 5
}
