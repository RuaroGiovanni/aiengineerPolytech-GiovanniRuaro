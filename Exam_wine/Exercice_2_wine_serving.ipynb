{
 "cells": [
  {
   "attachments": {},
   "cell_type": "markdown",
   "id": "bb4f77ac-be37-4675-8984-335af3f1769b",
   "metadata": {},
   "source": [
    "# Exercice 2 : wineserving : Create a Kserve inference service"
   ]
  },
  {
   "attachments": {},
   "cell_type": "markdown",
   "id": "e5fc854a",
   "metadata": {},
   "source": [
    "**In this exercice, you will have to an inference service :**\n",
    "- Model storage_uri: `s3://exam-assets/model/wine`\n",
    "\n",
    "**And test it with our snippet**\n",
    "```python\n",
    "\n",
    "isvc_resp = KServe.get(name, namespace=namespace)\n",
    "isvc_url = isvc_resp['status']['address']['url']\n",
    "\n",
    "inference_input = {\n",
    "  \"inputs\": [\n",
    "    {\n",
    "      \"name\": \"input-0\",\n",
    "      \"shape\": [1, 12],\n",
    "      \"datatype\": \"FP32\",\n",
    "      \"data\": [\n",
    "        [7.7,0.41,0.76,1.8,0.611,8.0,45.0,0.9968,3.06,1.26,9.4,5.0]\n",
    "      ]\n",
    "    }\n",
    "  ]\n",
    "}\n",
    "\n",
    "response = requests.post(isvc_url,json=inference_input)\n",
    "print(response.text)\n",
    "\n",
    "```"
   ]
  },
  {
   "attachments": {},
   "cell_type": "markdown",
   "id": "474a57c7",
   "metadata": {},
   "source": [
    "**This exercice can give you 5 points, here is how :** \n",
    "\n",
    "\n",
    "| criteria  | description  | score  |  \n",
    "|---|---|---|\n",
    "|  An inference service has been submitted with the right name  | it should be `{usernameinitials}-wx where x is the attemt number` Example for this exercice : john-doe, first attempt : `jd-w1`  |  1 |\n",
    "|  Inference service has ready and available status| we can see the green checkbox on model UI | 2  |\n",
    "|  Model returns predictions | using the sample provided, the model returns \"red\" or \"white\"  | 2  |"
   ]
  },
  {
   "attachments": {},
   "cell_type": "markdown",
   "id": "5b1b7167",
   "metadata": {},
   "source": [
    "![wineserve](./images/wineserving.png)"
   ]
  },
  {
   "attachments": {},
   "cell_type": "markdown",
   "id": "40bb77e3",
   "metadata": {},
   "source": [
    "![rw](./images/rw.png)"
   ]
  },
  {
   "cell_type": "code",
   "execution_count": 1,
   "id": "ec754497-9284-4770-8a0b-f7ca788111bb",
   "metadata": {},
   "outputs": [],
   "source": [
    "### You need to install kserve!\n",
    "#!pip install kserve"
   ]
  },
  {
   "cell_type": "code",
   "execution_count": 4,
   "id": "5d5a0413-c851-4a4e-86cd-dffff9f11d50",
   "metadata": {
    "tags": []
   },
   "outputs": [],
   "source": [
    "# Here is what depandancies you'll need\n",
    "from kubernetes import client \n",
    "from kserve import KServeClient\n",
    "from kserve import constants\n",
    "from kserve import utils\n",
    "from kserve import V1beta1InferenceService\n",
    "from kserve import V1beta1InferenceServiceSpec\n",
    "from kserve import V1beta1PredictorSpec\n",
    "from kserve import V1beta1SKLearnSpec"
   ]
  },
  {
   "cell_type": "code",
   "execution_count": 11,
   "id": "6fb29ad7-54a8-4f76-a598-614a3c325dbf",
   "metadata": {},
   "outputs": [],
   "source": [
    "# get kserve namespace\n",
    "namespace = utils.get_default_target_namespace()\n",
    "# {usernameinitials}-wx where x is the attemt number` Example for this exercice : john-doe, first attempt : `jd-w1`\n",
    "name = ''\n",
    "# storage uri for model : \n",
    "storage_uri=\"s3://exam-assets/model/wine\""
   ]
  },
  {
   "cell_type": "code",
   "execution_count": null,
   "id": "9e13365f",
   "metadata": {},
   "outputs": [],
   "source": [
    "### here we will create the right SA and secrets to enable serving from minio archive\n",
    "!kubectl apply -f secret.yaml"
   ]
  },
  {
   "attachments": {},
   "cell_type": "markdown",
   "id": "75b047de",
   "metadata": {},
   "source": [
    "### Define the inference service"
   ]
  },
  {
   "attachments": {},
   "cell_type": "markdown",
   "id": "5fabebeb",
   "metadata": {},
   "source": [
    "\n",
    "Start from the notebook 4 of technical session \"datapipeline2\" but this time the predictor used is **\"sklearn\"** instead of xgboost. \n",
    "\n",
    "Don't forget `service_account_name` and `image_pull_secrets`. They kept the same value as in datapipeline2"
   ]
  },
  {
   "cell_type": "code",
   "execution_count": 7,
   "id": "292b4e2b-14d4-4323-ba26-683fc8294fd8",
   "metadata": {},
   "outputs": [],
   "source": [
    "wine_isvc = ..."
   ]
  },
  {
   "cell_type": "code",
   "execution_count": null,
   "id": "380813a4-7b2d-4098-bbaf-434be68e357b",
   "metadata": {},
   "outputs": [],
   "source": [
    "KServe = KServeClient()\n",
    "KServe.create(wine_isvc)"
   ]
  },
  {
   "cell_type": "code",
   "execution_count": 12,
   "id": "2be44577-b81a-4114-88b6-d06284dd1ba1",
   "metadata": {},
   "outputs": [],
   "source": [
    "import requests\n",
    "\n",
    "isvc_resp = ...\n",
    "isvc_url = ..."
   ]
  },
  {
   "cell_type": "markdown",
   "id": "818a3d4a-9550-4979-bb0d-71e68c77a99a",
   "metadata": {},
   "source": [
    "### for prediction with the served model"
   ]
  },
  {
   "cell_type": "code",
   "execution_count": 18,
   "id": "791cbad3-a610-4a8e-a7eb-de874c539763",
   "metadata": {},
   "outputs": [],
   "source": [
    "inference_input = {\n",
    "  \"inputs\": [\n",
    "    {\n",
    "      \"name\": \"input-0\",\n",
    "      \"shape\": [1, 12],\n",
    "      \"datatype\": \"FP32\",\n",
    "      \"data\": [\n",
    "        [\n",
    "            7.7,\n",
    "            0.41,\n",
    "            0.76,\n",
    "            1.8,\n",
    "            0.611,\n",
    "            8.0,\n",
    "            45.0,\n",
    "            0.9968,\n",
    "            3.06,\n",
    "            1.26,\n",
    "            9.4,\n",
    "            5.0\n",
    "        ]\n",
    "      ]\n",
    "    }\n",
    "  ]\n",
    "}"
   ]
  },
  {
   "cell_type": "code",
   "execution_count": null,
   "id": "7ac11dce-ca44-47e1-a5fc-b51a32b93a11",
   "metadata": {},
   "outputs": [],
   "source": [
    "response = requests.post(isvc_url,json=inference_input)\n",
    "print(response.text)"
   ]
  },
  {
   "cell_type": "markdown",
   "id": "5b1582ab-768a-4be9-a7ae-1d6e092fdb18",
   "metadata": {},
   "source": [
    "## End of the exercice "
   ]
  }
 ],
 "metadata": {
  "kernelspec": {
   "display_name": "Python 3",
   "language": "python",
   "name": "python3"
  },
  "language_info": {
   "codemirror_mode": {
    "name": "ipython",
    "version": 3
   },
   "file_extension": ".py",
   "mimetype": "text/x-python",
   "name": "python",
   "nbconvert_exporter": "python",
   "pygments_lexer": "ipython3",
   "version": "3.9.13 (tags/v3.9.13:6de2ca5, May 17 2022, 16:36:42) [MSC v.1929 64 bit (AMD64)]"
  },
  "vscode": {
   "interpreter": {
    "hash": "1db6d0c0fb62fcd92812f526c45c77dc568410c92bb0ad7cc615a53ad33175c5"
   }
  }
 },
 "nbformat": 4,
 "nbformat_minor": 5
}
