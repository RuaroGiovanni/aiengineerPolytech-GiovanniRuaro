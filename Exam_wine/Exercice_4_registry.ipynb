{
 "cells": [
  {
   "attachments": {},
   "cell_type": "markdown",
   "metadata": {},
   "source": [
    "# Exercice 4 : registry : register a retrained model into MLFLOW"
   ]
  },
  {
   "attachments": {},
   "cell_type": "markdown",
   "metadata": {},
   "source": [
    "**In this exercice, you will have to  :**\n",
    "- Locally load data from : `bucket = \"exam-assets\" minio_path = 'datasets/wine/wine.parquet'`\n",
    "- Locally load model from : `bucket = \"exam-assets\" minio_path = 'model/wine/model.joblib'`\n",
    "- Retrain model in an Mlflow context.\n",
    "- Register the model bound to this context\n",
    "\n",
    "The url for Mlflow is : https://ml-registry.aiengineer.polytech.sandbox-atos.com/"
   ]
  },
  {
   "attachments": {},
   "cell_type": "markdown",
   "metadata": {},
   "source": [
    "**This exercice can give you 5 points, here is how :** \n",
    "\n",
    "\n",
    "| criteria  | description  | score  |  \n",
    "|---|---|---|\n",
    "| Mlflow Experiment |Retrain informations are available in the students's Mlflow experiment  |  3 |\n",
    "|  Register model |  New model is stored on the registry, bound to the run | 2  |\n"
   ]
  },
  {
   "attachments": {},
   "cell_type": "markdown",
   "metadata": {},
   "source": [
    "![expml](./images/expml.png)"
   ]
  },
  {
   "attachments": {},
   "cell_type": "markdown",
   "metadata": {},
   "source": [
    "![run](./images/rundtl.png)"
   ]
  },
  {
   "attachments": {},
   "cell_type": "markdown",
   "metadata": {},
   "source": [
    "![mdl](./images/mdl.png)"
   ]
  },
  {
   "cell_type": "code",
   "execution_count": null,
   "metadata": {},
   "outputs": [],
   "source": [
    "you need to install mlflow\n",
    "#!pip install mlflow boto boto3"
   ]
  },
  {
   "cell_type": "code",
   "execution_count": null,
   "metadata": {},
   "outputs": [],
   "source": [
    "# Here is what depandancies you might need\n",
    "import numpy\n",
    "import os\n",
    "import urllib3\n",
    "import pyarrow\n",
    "import pandas as pd\n",
    "import mlflow.sklearn\n",
    "from io import BytesIO\n",
    "from minio import Minio\n",
    "from joblib import load,dump\n",
    "from sklearn.metrics import accuracy_score, roc_curve\n",
    "from sklearn import metrics, preprocessing, tree\n",
    "from sklearn.model_selection import train_test_split\n",
    "from mlflow.store.artifact.runs_artifact_repo import RunsArtifactRepository\n",
    "from mlflow import MlflowClient"
   ]
  },
  {
   "cell_type": "code",
   "execution_count": null,
   "metadata": {},
   "outputs": [],
   "source": [
    "### Mlflow config\n",
    "os.environ[\"AWS_ACCESS_KEY_ID\"] = \"mlflow-storage\"\n",
    "os.environ[\"AWS_SECRET_ACCESS_KEY\"] = \"mlflow-storage\"\n",
    "os.environ[\"MLFLOW_S3_ENDPOINT_URL\"] = \"https://storage-api.aiengineer.polytech.sandbox-atos.com\"\n",
    "mlflow.set_tracking_uri('http://mlflow.mlflow.svc.cluster.local:5000')"
   ]
  },
  {
   "cell_type": "markdown",
   "metadata": {},
   "source": [
    "### Local retrain"
   ]
  },
  {
   "attachments": {},
   "cell_type": "markdown",
   "metadata": {},
   "source": [
    "#### Create a Mlflow experiment"
   ]
  },
  {
   "cell_type": "markdown",
   "metadata": {},
   "source": [
    "You can start from ML governance practical session notebook 2 to get mlflow examples"
   ]
  },
  {
   "cell_type": "code",
   "execution_count": null,
   "metadata": {},
   "outputs": [],
   "source": [
    "### example : 'john-doe'\n",
    "username=''"
   ]
  },
  {
   "cell_type": "code",
   "execution_count": 2,
   "metadata": {},
   "outputs": [],
   "source": [
    "### mlflow sa : mlflow-sa-storage\n",
    "mlflow.sklearn.autolog()"
   ]
  },
  {
   "cell_type": "code",
   "execution_count": null,
   "metadata": {},
   "outputs": [],
   "source": [
    "experiment_name = f\"{username} experiments\"\n",
    "experiment_id = ..."
   ]
  },
  {
   "cell_type": "code",
   "execution_count": null,
   "metadata": {},
   "outputs": [],
   "source": [
    "experiment = mlflow.get_experiment(experiment_id)\n",
    "print(\"Name: {}\".format(experiment.name))\n",
    "print(\"Experiment_id: {}\".format(experiment.experiment_id))\n",
    "print(\"Artifact Location: {}\".format(experiment.artifact_location))\n",
    "print(\"Tags: {}\".format(experiment.tags))\n",
    "print(\"Lifecycle_stage: {}\".format(experiment.lifecycle_stage))"
   ]
  },
  {
   "cell_type": "markdown",
   "metadata": {},
   "source": [
    "#### Retrain the model from Minio"
   ]
  },
  {
   "cell_type": "code",
   "execution_count": null,
   "metadata": {},
   "outputs": [],
   "source": [
    "## Create a client with the access key and the secret key given\n",
    "client = ..."
   ]
  },
  {
   "cell_type": "code",
   "execution_count": null,
   "metadata": {},
   "outputs": [],
   "source": [
    "### get data locally\n",
    "minio_path = 'datasets/wine/wine.parquet'\n",
    "bucket = \"exam-assets\"\n",
    "try:\n",
    "    ...\n",
    "finally:\n",
    "    ...\n",
    "    \n",
    "### pass dataset to component output\n",
    "winedata.to_parquet('wine.parquet')"
   ]
  },
  {
   "cell_type": "code",
   "execution_count": null,
   "metadata": {},
   "outputs": [],
   "source": [
    "### get model locally\n",
    "minio_path = 'model/wine/model.joblib'\n",
    "bucket = \"exam-assets\"\n",
    "try:\n",
    "    ...\n",
    "finally:\n",
    "    ...\n",
    "    \n",
    "### pass dataset to component output\n",
    "dump(winemodel,'model.joblib')"
   ]
  },
  {
   "attachments": {},
   "cell_type": "markdown",
   "metadata": {},
   "source": [
    "To make the retrain useful : add a standard scaler before fit : \n",
    "\n",
    "```python\n",
    "scaler = preprocessing.StandardScaler().fit(X_train)\n",
    "X_scaled = scaler.transform(X_train)\n",
    "```"
   ]
  },
  {
   "cell_type": "code",
   "execution_count": null,
   "metadata": {},
   "outputs": [],
   "source": [
    "### this context manager will bind the process to an experiment\n",
    "with mlflow.start_run(experiment_id=experiment_id) as run:\n",
    "    \n",
    "    ### get data\n",
    "    ...\n",
    "    \n",
    "    ### split data ###\n",
    "    ...\n",
    "    \n",
    "    ## Here, we add a standard scaler. then we fit\n",
    "    ...\n",
    "    \n",
    "\n",
    "    ## Now we have predicted the output by passing X_test and also stored real target in expected_y.\n",
    "\n",
    "    ...\n",
    "    predicted_y = model.predict(X_test)"
   ]
  },
  {
   "attachments": {},
   "cell_type": "markdown",
   "metadata": {},
   "source": [
    "Now the run is available on your Mlflow experiment!\n",
    "\n",
    "### Register the model"
   ]
  },
  {
   "cell_type": "code",
   "execution_count": null,
   "metadata": {},
   "outputs": [],
   "source": [
    "client = MlflowClient(tracking_uri='http://mlflow.mlflow.svc.cluster.local:5000')"
   ]
  },
  {
   "cell_type": "code",
   "execution_count": null,
   "metadata": {},
   "outputs": [],
   "source": [
    "username = ''  # john-doe\n",
    "name=f\"{username}-wine-exam\" # john-doe-wine-exam"
   ]
  },
  {
   "cell_type": "code",
   "execution_count": null,
   "metadata": {},
   "outputs": [],
   "source": [
    "client.create_registered_model(name)"
   ]
  },
  {
   "attachments": {},
   "cell_type": "markdown",
   "metadata": {},
   "source": [
    "Create a model version that will bind your model to your experiment run"
   ]
  },
  {
   "cell_type": "code",
   "execution_count": null,
   "metadata": {},
   "outputs": [],
   "source": [
    "desc = \"Wine color classification\"\n",
    "runs_uri =...\n",
    "model_src = ...\n",
    "mv = ...\n",
    "print(\"Name: {}\".format(mv.name))\n",
    "print(\"Version: {}\".format(mv.version))\n",
    "print(\"Description: {}\".format(mv.description))\n",
    "print(\"Status: {}\".format(mv.status))\n",
    "print(\"Stage: {}\".format(mv.current_stage))"
   ]
  },
  {
   "cell_type": "markdown",
   "metadata": {},
   "source": [
    "## End of the exercice "
   ]
  }
 ],
 "metadata": {
  "kernelspec": {
   "display_name": "Python 3",
   "language": "python",
   "name": "python3"
  },
  "language_info": {
   "codemirror_mode": {
    "name": "ipython",
    "version": 3
   },
   "file_extension": ".py",
   "mimetype": "text/x-python",
   "name": "python",
   "nbconvert_exporter": "python",
   "pygments_lexer": "ipython3",
   "version": "3.9.13 (tags/v3.9.13:6de2ca5, May 17 2022, 16:36:42) [MSC v.1929 64 bit (AMD64)]"
  },
  "orig_nbformat": 4,
  "vscode": {
   "interpreter": {
    "hash": "1db6d0c0fb62fcd92812f526c45c77dc568410c92bb0ad7cc615a53ad33175c5"
   }
  }
 },
 "nbformat": 4,
 "nbformat_minor": 2
}
